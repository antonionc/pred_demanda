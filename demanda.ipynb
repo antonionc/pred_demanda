{
 "cells": [
  {
   "cell_type": "code",
   "execution_count": 9,
   "id": "c2d9a384",
   "metadata": {},
   "outputs": [],
   "source": [
    "# Import required  libraries\n",
    "import requests\n"
   ]
  },
  {
   "cell_type": "code",
   "execution_count": 13,
   "id": "70b5ec32",
   "metadata": {},
   "outputs": [],
   "source": [
    "# Auxiliary functions\n",
    "def read_api_key(filepath):\n",
    "    with open(filepath, 'r') as f:\n",
    "        return f.read().strip()\n",
    "\n",
    "def download_esios_indicators(api_key_file):\n",
    "    api_key = read_api_key(api_key_file)\n",
    "    url = \"https://api.esios.ree.es/indicators\"\n",
    "    headers = {\n",
    "        \"Accept\": \"application/json; application/vnd.esios-api-v1+json\",\n",
    "        \"Content-Type\": \"application/json\",\n",
    "        \"x-api-key\": f\"{api_key}\"\n",
    "    }\n",
    "    response = requests.get(url, headers=headers)\n",
    "    response.raise_for_status()\n",
    "    return response.json()\n",
    "\n",
    "def download_esios_indicator_data(api_key_file, indicator_id, start_date, end_date):\n",
    "    \"\"\"\n",
    "    Download data for a specific indicator from ESIOS API within a date range.\n",
    "    \n",
    "    Parameters:\n",
    "    - api_key_file: Path to the file containing the API key\n",
    "    - indicator_id: ID of the indicator to download\n",
    "    - start_date: Start date in format 'YYYY-MM-DDTHH:MM:SS'\n",
    "    - end_date: End date in format 'YYYY-MM-DDTHH:MM:SS'\n",
    "    \n",
    "    Returns:\n",
    "    - JSON response with indicator data\n",
    "    \"\"\"\n",
    "    api_key = read_api_key(api_key_file)\n",
    "    url = f\"https://api.esios.ree.es/indicators/{indicator_id}\"\n",
    "    headers = {\n",
    "        \"Accept\": \"application/json; application/vnd.esios-api-v1+json\",\n",
    "        \"Content-Type\": \"application/json\",\n",
    "        \"x-api-key\": f\"{api_key}\"\n",
    "    }\n",
    "    params = {\n",
    "        \"start_date\": start_date,\n",
    "        \"end_date\": end_date\n",
    "    }\n",
    "    response = requests.get(url, headers=headers, params=params)\n",
    "    response.raise_for_status()\n",
    "    return response.json()"
   ]
  },
  {
   "cell_type": "code",
   "execution_count": 11,
   "id": "5090d05c",
   "metadata": {},
   "outputs": [
    {
     "ename": "HTTPError",
     "evalue": "403 Client Error: Forbidden for url: https://api.esios.ree.es/indicators",
     "output_type": "error",
     "traceback": [
      "\u001b[0;31m---------------------------------------------------------------------------\u001b[0m",
      "\u001b[0;31mHTTPError\u001b[0m                                 Traceback (most recent call last)",
      "Cell \u001b[0;32mIn[11], line 2\u001b[0m\n\u001b[1;32m      1\u001b[0m \u001b[38;5;66;03m# Example usage:\u001b[39;00m\n\u001b[0;32m----> 2\u001b[0m indicators \u001b[38;5;241m=\u001b[39m \u001b[43mdownload_esios_indicators\u001b[49m\u001b[43m(\u001b[49m\u001b[38;5;124;43m'\u001b[39;49m\u001b[38;5;124;43mesios_api_key.txt\u001b[39;49m\u001b[38;5;124;43m'\u001b[39;49m\u001b[43m)\u001b[49m\n\u001b[1;32m      3\u001b[0m \u001b[38;5;28mprint\u001b[39m(indicators)\n",
      "Cell \u001b[0;32mIn[10], line 15\u001b[0m, in \u001b[0;36mdownload_esios_indicators\u001b[0;34m(api_key_file)\u001b[0m\n\u001b[1;32m      9\u001b[0m headers \u001b[38;5;241m=\u001b[39m {\n\u001b[1;32m     10\u001b[0m     \u001b[38;5;124m\"\u001b[39m\u001b[38;5;124mAccept\u001b[39m\u001b[38;5;124m\"\u001b[39m: \u001b[38;5;124m\"\u001b[39m\u001b[38;5;124mapplication/json; application/vnd.esios-api-v1+json\u001b[39m\u001b[38;5;124m\"\u001b[39m,\n\u001b[1;32m     11\u001b[0m     \u001b[38;5;124m\"\u001b[39m\u001b[38;5;124mContent-Type\u001b[39m\u001b[38;5;124m\"\u001b[39m: \u001b[38;5;124m\"\u001b[39m\u001b[38;5;124mapplication/json\u001b[39m\u001b[38;5;124m\"\u001b[39m,\n\u001b[1;32m     12\u001b[0m     \u001b[38;5;124m\"\u001b[39m\u001b[38;5;124mx-api-key\u001b[39m\u001b[38;5;124m\"\u001b[39m: \u001b[38;5;124mf\u001b[39m\u001b[38;5;124m\"\u001b[39m\u001b[38;5;132;01m{\u001b[39;00mapi_key\u001b[38;5;132;01m}\u001b[39;00m\u001b[38;5;124m\"\u001b[39m\n\u001b[1;32m     13\u001b[0m }\n\u001b[1;32m     14\u001b[0m response \u001b[38;5;241m=\u001b[39m requests\u001b[38;5;241m.\u001b[39mget(url, headers\u001b[38;5;241m=\u001b[39mheaders)\n\u001b[0;32m---> 15\u001b[0m \u001b[43mresponse\u001b[49m\u001b[38;5;241;43m.\u001b[39;49m\u001b[43mraise_for_status\u001b[49m\u001b[43m(\u001b[49m\u001b[43m)\u001b[49m\n\u001b[1;32m     16\u001b[0m \u001b[38;5;28;01mreturn\u001b[39;00m response\u001b[38;5;241m.\u001b[39mjson()\n",
      "File \u001b[0;32m/usr/lib/python3.13/site-packages/requests/models.py:1026\u001b[0m, in \u001b[0;36mResponse.raise_for_status\u001b[0;34m(self)\u001b[0m\n\u001b[1;32m   1021\u001b[0m     http_error_msg \u001b[38;5;241m=\u001b[39m (\n\u001b[1;32m   1022\u001b[0m         \u001b[38;5;124mf\u001b[39m\u001b[38;5;124m\"\u001b[39m\u001b[38;5;132;01m{\u001b[39;00m\u001b[38;5;28mself\u001b[39m\u001b[38;5;241m.\u001b[39mstatus_code\u001b[38;5;132;01m}\u001b[39;00m\u001b[38;5;124m Server Error: \u001b[39m\u001b[38;5;132;01m{\u001b[39;00mreason\u001b[38;5;132;01m}\u001b[39;00m\u001b[38;5;124m for url: \u001b[39m\u001b[38;5;132;01m{\u001b[39;00m\u001b[38;5;28mself\u001b[39m\u001b[38;5;241m.\u001b[39murl\u001b[38;5;132;01m}\u001b[39;00m\u001b[38;5;124m\"\u001b[39m\n\u001b[1;32m   1023\u001b[0m     )\n\u001b[1;32m   1025\u001b[0m \u001b[38;5;28;01mif\u001b[39;00m http_error_msg:\n\u001b[0;32m-> 1026\u001b[0m     \u001b[38;5;28;01mraise\u001b[39;00m HTTPError(http_error_msg, response\u001b[38;5;241m=\u001b[39m\u001b[38;5;28mself\u001b[39m)\n",
      "\u001b[0;31mHTTPError\u001b[0m: 403 Client Error: Forbidden for url: https://api.esios.ree.es/indicators"
     ]
    }
   ],
   "source": [
    "# Example usage:\n",
    "indicators = download_esios_indicators('esios_api_key.txt')\n",
    "print(indicators)"
   ]
  },
  {
   "cell_type": "code",
   "execution_count": null,
   "id": "b5a18fcf",
   "metadata": {},
   "outputs": [],
   "source": [
    "# Example: Download specific indicator data with date range\n",
    "# Let's download data for indicator 447 (Demanda real - Real demand) \n",
    "# for the last week of July 2025\n",
    "\n",
    "indicator_id = 447  # Real demand indicator\n",
    "start_date = \"2025-07-24T00:00:00\"\n",
    "end_date = \"2025-07-31T23:59:59\"\n",
    "\n",
    "try:\n",
    "    indicator_data = download_esios_indicator_data('esios_api_key.txt', indicator_id, start_date, end_date)\n",
    "    print(f\"Downloaded data for indicator {indicator_id}\")\n",
    "    print(f\"Data points: {len(indicator_data['indicator']['values'])}\")\n",
    "    print(f\"First few values:\")\n",
    "    for i, value in enumerate(indicator_data['indicator']['values'][:5]):\n",
    "        print(f\"  {value['datetime']}: {value['value']} {indicator_data['indicator']['data_type']}\")\n",
    "except Exception as e:\n",
    "    print(f\"Error downloading data: {e}\")"
   ]
  }
 ],
 "metadata": {
  "kernelspec": {
   "display_name": "Python 3",
   "language": "python",
   "name": "python3"
  },
  "language_info": {
   "codemirror_mode": {
    "name": "ipython",
    "version": 3
   },
   "file_extension": ".py",
   "mimetype": "text/x-python",
   "name": "python",
   "nbconvert_exporter": "python",
   "pygments_lexer": "ipython3",
   "version": "3.13.5"
  }
 },
 "nbformat": 4,
 "nbformat_minor": 5
}
